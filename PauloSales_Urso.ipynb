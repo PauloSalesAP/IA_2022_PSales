{
 "cells": [
  {
   "cell_type": "code",
   "execution_count": 1,
   "metadata": {
    "collapsed": true
   },
   "outputs": [
    {
     "name": "stdout",
     "output_type": "stream",
     "text": [
      "Requirement already satisfied: fastbook in c:\\users\\paulo\\anaconda3\\lib\\site-packages (0.0.18)\n",
      "Requirement already satisfied: pip in c:\\users\\paulo\\anaconda3\\lib\\site-packages (from fastbook) (21.2.2)\n",
      "Requirement already satisfied: ipywidgets in c:\\users\\paulo\\anaconda3\\lib\\site-packages (from fastbook) (7.6.5)\n",
      "Requirement already satisfied: pandas in c:\\users\\paulo\\anaconda3\\lib\\site-packages (from fastbook) (1.4.0)\n",
      "Requirement already satisfied: nbdev>=0.2.38 in c:\\users\\paulo\\anaconda3\\lib\\site-packages (from fastbook) (1.1.23)\n",
      "Requirement already satisfied: packaging in c:\\users\\paulo\\anaconda3\\lib\\site-packages (from fastbook) (21.3)\n",
      "Requirement already satisfied: fastai>=2.5 in c:\\users\\paulo\\anaconda3\\lib\\site-packages (from fastbook) (2.5.3)\n",
      "Requirement already satisfied: sentencepiece in c:\\users\\paulo\\anaconda3\\lib\\site-packages (from fastbook) (0.1.96)\n",
      "Requirement already satisfied: requests in c:\\users\\paulo\\anaconda3\\lib\\site-packages (from fastbook) (2.27.1)\n",
      "Requirement already satisfied: scipy in c:\\users\\paulo\\anaconda3\\lib\\site-packages (from fastai>=2.5->fastbook) (1.7.3)\n",
      "Requirement already satisfied: spacy<4 in c:\\users\\paulo\\anaconda3\\lib\\site-packages (from fastai>=2.5->fastbook) (3.2.1)\n",
      "Requirement already satisfied: pyyaml in c:\\users\\paulo\\anaconda3\\lib\\site-packages (from fastai>=2.5->fastbook) (6.0)\n",
      "Requirement already satisfied: pillow>6.0.0 in c:\\users\\paulo\\anaconda3\\lib\\site-packages (from fastai>=2.5->fastbook) (9.0.0)\n",
      "Requirement already satisfied: scikit-learn in c:\\users\\paulo\\anaconda3\\lib\\site-packages (from fastai>=2.5->fastbook) (1.0.2)\n",
      "Requirement already satisfied: fastcore<1.4,>=1.3.22 in c:\\users\\paulo\\anaconda3\\lib\\site-packages (from fastai>=2.5->fastbook) (1.3.27)\n",
      "Requirement already satisfied: torchvision>=0.8.2 in c:\\users\\paulo\\anaconda3\\lib\\site-packages (from fastai>=2.5->fastbook) (0.11.3)\n",
      "Requirement already satisfied: matplotlib in c:\\users\\paulo\\anaconda3\\lib\\site-packages (from fastai>=2.5->fastbook) (3.5.1)\n",
      "Requirement already satisfied: fastdownload<2,>=0.0.5 in c:\\users\\paulo\\anaconda3\\lib\\site-packages (from fastai>=2.5->fastbook) (0.0.5)\n",
      "Requirement already satisfied: fastprogress>=0.2.4 in c:\\users\\paulo\\anaconda3\\lib\\site-packages (from fastai>=2.5->fastbook) (1.0.0)\n",
      "Requirement already satisfied: torch<1.11,>=1.7.0 in c:\\users\\paulo\\anaconda3\\lib\\site-packages (from fastai>=2.5->fastbook) (1.10.2)\n",
      "Requirement already satisfied: numpy in c:\\users\\paulo\\anaconda3\\lib\\site-packages (from fastprogress>=0.2.4->fastai>=2.5->fastbook) (1.22.1)\n",
      "Requirement already satisfied: jupyter in c:\\users\\paulo\\anaconda3\\lib\\site-packages (from nbdev>=0.2.38->fastbook) (1.0.0)\n",
      "Requirement already satisfied: nbconvert<6 in c:\\users\\paulo\\anaconda3\\lib\\site-packages (from nbdev>=0.2.38->fastbook) (5.6.1)\n",
      "Requirement already satisfied: ghapi in c:\\users\\paulo\\anaconda3\\lib\\site-packages (from nbdev>=0.2.38->fastbook) (0.1.19)\n",
      "Requirement already satisfied: fastrelease in c:\\users\\paulo\\anaconda3\\lib\\site-packages (from nbdev>=0.2.38->fastbook) (0.1.12)\n",
      "Requirement already satisfied: jupyter-client<7.0 in c:\\users\\paulo\\anaconda3\\lib\\site-packages (from nbdev>=0.2.38->fastbook) (6.1.12)\n",
      "Requirement already satisfied: nbformat>=4.4.0 in c:\\users\\paulo\\anaconda3\\lib\\site-packages (from nbdev>=0.2.38->fastbook) (5.1.3)\n",
      "Requirement already satisfied: ipykernel in c:\\users\\paulo\\anaconda3\\lib\\site-packages (from nbdev>=0.2.38->fastbook) (6.4.1)\n",
      "Requirement already satisfied: tornado>=4.1 in c:\\users\\paulo\\anaconda3\\lib\\site-packages (from jupyter-client<7.0->nbdev>=0.2.38->fastbook) (6.1)\n",
      "Requirement already satisfied: python-dateutil>=2.1 in c:\\users\\paulo\\anaconda3\\lib\\site-packages (from jupyter-client<7.0->nbdev>=0.2.38->fastbook) (2.8.2)\n",
      "Requirement already satisfied: pyzmq>=13 in c:\\users\\paulo\\anaconda3\\lib\\site-packages (from jupyter-client<7.0->nbdev>=0.2.38->fastbook) (22.3.0)\n",
      "Requirement already satisfied: jupyter-core>=4.6.0 in c:\\users\\paulo\\anaconda3\\lib\\site-packages (from jupyter-client<7.0->nbdev>=0.2.38->fastbook) (4.9.1)\n",
      "Requirement already satisfied: traitlets in c:\\users\\paulo\\anaconda3\\lib\\site-packages (from jupyter-client<7.0->nbdev>=0.2.38->fastbook) (5.1.1)\n",
      "Requirement already satisfied: pywin32>=1.0 in c:\\users\\paulo\\anaconda3\\lib\\site-packages (from jupyter-core>=4.6.0->jupyter-client<7.0->nbdev>=0.2.38->fastbook) (302)\n",
      "Requirement already satisfied: pygments in c:\\users\\paulo\\anaconda3\\lib\\site-packages (from nbconvert<6->nbdev>=0.2.38->fastbook) (2.10.0)\n",
      "Requirement already satisfied: entrypoints>=0.2.2 in c:\\users\\paulo\\anaconda3\\lib\\site-packages (from nbconvert<6->nbdev>=0.2.38->fastbook) (0.3)\n",
      "Requirement already satisfied: bleach in c:\\users\\paulo\\anaconda3\\lib\\site-packages (from nbconvert<6->nbdev>=0.2.38->fastbook) (4.1.0)\n",
      "Requirement already satisfied: jinja2>=2.4 in c:\\users\\paulo\\anaconda3\\lib\\site-packages (from nbconvert<6->nbdev>=0.2.38->fastbook) (2.11.3)\n",
      "Requirement already satisfied: mistune<2,>=0.8.1 in c:\\users\\paulo\\anaconda3\\lib\\site-packages (from nbconvert<6->nbdev>=0.2.38->fastbook) (0.8.4)\n",
      "Requirement already satisfied: pandocfilters>=1.4.1 in c:\\users\\paulo\\anaconda3\\lib\\site-packages (from nbconvert<6->nbdev>=0.2.38->fastbook) (1.5.0)\n",
      "Requirement already satisfied: testpath in c:\\users\\paulo\\anaconda3\\lib\\site-packages (from nbconvert<6->nbdev>=0.2.38->fastbook) (0.5.0)\n",
      "Requirement already satisfied: defusedxml in c:\\users\\paulo\\anaconda3\\lib\\site-packages (from nbconvert<6->nbdev>=0.2.38->fastbook) (0.7.1)\n",
      "Requirement already satisfied: MarkupSafe>=0.23 in c:\\users\\paulo\\anaconda3\\lib\\site-packages (from jinja2>=2.4->nbconvert<6->nbdev>=0.2.38->fastbook) (2.0.1)\n",
      "Requirement already satisfied: jsonschema!=2.5.0,>=2.4 in c:\\users\\paulo\\anaconda3\\lib\\site-packages (from nbformat>=4.4.0->nbdev>=0.2.38->fastbook) (3.2.0)\n",
      "Requirement already satisfied: ipython-genutils in c:\\users\\paulo\\anaconda3\\lib\\site-packages (from nbformat>=4.4.0->nbdev>=0.2.38->fastbook) (0.2.0)\n",
      "Requirement already satisfied: attrs>=17.4.0 in c:\\users\\paulo\\anaconda3\\lib\\site-packages (from jsonschema!=2.5.0,>=2.4->nbformat>=4.4.0->nbdev>=0.2.38->fastbook) (21.4.0)\n",
      "Requirement already satisfied: six>=1.11.0 in c:\\users\\paulo\\anaconda3\\lib\\site-packages (from jsonschema!=2.5.0,>=2.4->nbformat>=4.4.0->nbdev>=0.2.38->fastbook) (1.16.0)\n",
      "Requirement already satisfied: pyrsistent>=0.14.0 in c:\\users\\paulo\\anaconda3\\lib\\site-packages (from jsonschema!=2.5.0,>=2.4->nbformat>=4.4.0->nbdev>=0.2.38->fastbook) (0.18.0)\n",
      "Requirement already satisfied: setuptools in c:\\users\\paulo\\anaconda3\\lib\\site-packages (from jsonschema!=2.5.0,>=2.4->nbformat>=4.4.0->nbdev>=0.2.38->fastbook) (58.0.4)\n",
      "Requirement already satisfied: pydantic!=1.8,!=1.8.1,<1.9.0,>=1.7.4 in c:\\users\\paulo\\anaconda3\\lib\\site-packages (from spacy<4->fastai>=2.5->fastbook) (1.8.2)\n",
      "Requirement already satisfied: wasabi<1.1.0,>=0.8.1 in c:\\users\\paulo\\anaconda3\\lib\\site-packages (from spacy<4->fastai>=2.5->fastbook) (0.9.0)\n",
      "Requirement already satisfied: catalogue<2.1.0,>=2.0.6 in c:\\users\\paulo\\anaconda3\\lib\\site-packages (from spacy<4->fastai>=2.5->fastbook) (2.0.6)\n",
      "Requirement already satisfied: blis<0.8.0,>=0.4.0 in c:\\users\\paulo\\anaconda3\\lib\\site-packages (from spacy<4->fastai>=2.5->fastbook) (0.7.5)\n",
      "Requirement already satisfied: cymem<2.1.0,>=2.0.2 in c:\\users\\paulo\\anaconda3\\lib\\site-packages (from spacy<4->fastai>=2.5->fastbook) (2.0.6)\n",
      "Requirement already satisfied: tqdm<5.0.0,>=4.38.0 in c:\\users\\paulo\\anaconda3\\lib\\site-packages (from spacy<4->fastai>=2.5->fastbook) (4.62.3)\n",
      "Requirement already satisfied: preshed<3.1.0,>=3.0.2 in c:\\users\\paulo\\anaconda3\\lib\\site-packages (from spacy<4->fastai>=2.5->fastbook) (3.0.6)\n",
      "Requirement already satisfied: srsly<3.0.0,>=2.4.1 in c:\\users\\paulo\\anaconda3\\lib\\site-packages (from spacy<4->fastai>=2.5->fastbook) (2.4.2)\n",
      "Requirement already satisfied: typer<0.5.0,>=0.3.0 in c:\\users\\paulo\\anaconda3\\lib\\site-packages (from spacy<4->fastai>=2.5->fastbook) (0.4.0)\n",
      "Requirement already satisfied: thinc<8.1.0,>=8.0.12 in c:\\users\\paulo\\anaconda3\\lib\\site-packages (from spacy<4->fastai>=2.5->fastbook) (8.0.13)\n",
      "Requirement already satisfied: langcodes<4.0.0,>=3.2.0 in c:\\users\\paulo\\anaconda3\\lib\\site-packages (from spacy<4->fastai>=2.5->fastbook) (3.3.0)\n",
      "Requirement already satisfied: spacy-loggers<2.0.0,>=1.0.0 in c:\\users\\paulo\\anaconda3\\lib\\site-packages (from spacy<4->fastai>=2.5->fastbook) (1.0.1)\n",
      "Requirement already satisfied: pathy>=0.3.5 in c:\\users\\paulo\\anaconda3\\lib\\site-packages (from spacy<4->fastai>=2.5->fastbook) (0.6.1)\n",
      "Requirement already satisfied: murmurhash<1.1.0,>=0.28.0 in c:\\users\\paulo\\anaconda3\\lib\\site-packages (from spacy<4->fastai>=2.5->fastbook) (1.0.6)\n",
      "Requirement already satisfied: spacy-legacy<3.1.0,>=3.0.8 in c:\\users\\paulo\\anaconda3\\lib\\site-packages (from spacy<4->fastai>=2.5->fastbook) (3.0.8)\n",
      "Requirement already satisfied: pyparsing!=3.0.5,>=2.0.2 in c:\\users\\paulo\\anaconda3\\lib\\site-packages (from packaging->fastbook) (3.0.4)\n",
      "Requirement already satisfied: smart-open<6.0.0,>=5.0.0 in c:\\users\\paulo\\anaconda3\\lib\\site-packages (from pathy>=0.3.5->spacy<4->fastai>=2.5->fastbook) (5.2.1)\n",
      "Requirement already satisfied: typing-extensions>=3.7.4.3 in c:\\users\\paulo\\anaconda3\\lib\\site-packages (from pydantic!=1.8,!=1.8.1,<1.9.0,>=1.7.4->spacy<4->fastai>=2.5->fastbook) (4.0.1)\n",
      "Requirement already satisfied: urllib3<1.27,>=1.21.1 in c:\\users\\paulo\\anaconda3\\lib\\site-packages (from requests->fastbook) (1.26.8)\n",
      "Requirement already satisfied: charset-normalizer~=2.0.0 in c:\\users\\paulo\\anaconda3\\lib\\site-packages (from requests->fastbook) (2.0.4)\n",
      "Requirement already satisfied: certifi>=2017.4.17 in c:\\users\\paulo\\anaconda3\\lib\\site-packages (from requests->fastbook) (2021.10.8)\n",
      "Requirement already satisfied: idna<4,>=2.5 in c:\\users\\paulo\\anaconda3\\lib\\site-packages (from requests->fastbook) (3.3)\n",
      "Requirement already satisfied: colorama in c:\\users\\paulo\\anaconda3\\lib\\site-packages (from tqdm<5.0.0,>=4.38.0->spacy<4->fastai>=2.5->fastbook) (0.4.4)\n",
      "Requirement already satisfied: click<9.0.0,>=7.1.1 in c:\\users\\paulo\\anaconda3\\lib\\site-packages (from typer<0.5.0,>=0.3.0->spacy<4->fastai>=2.5->fastbook) (8.0.3)\n",
      "Requirement already satisfied: webencodings in c:\\users\\paulo\\anaconda3\\lib\\site-packages (from bleach->nbconvert<6->nbdev>=0.2.38->fastbook) (0.5.1)\n",
      "Requirement already satisfied: debugpy<2.0,>=1.0.0 in c:\\users\\paulo\\anaconda3\\lib\\site-packages (from ipykernel->nbdev>=0.2.38->fastbook) (1.5.1)\n",
      "Requirement already satisfied: ipython<8.0,>=7.23.1 in c:\\users\\paulo\\anaconda3\\lib\\site-packages (from ipykernel->nbdev>=0.2.38->fastbook) (7.29.0)\n",
      "Requirement already satisfied: matplotlib-inline<0.2.0,>=0.1.0 in c:\\users\\paulo\\anaconda3\\lib\\site-packages (from ipykernel->nbdev>=0.2.38->fastbook) (0.1.2)\n",
      "Requirement already satisfied: jedi>=0.16 in c:\\users\\paulo\\anaconda3\\lib\\site-packages (from ipython<8.0,>=7.23.1->ipykernel->nbdev>=0.2.38->fastbook) (0.18.0)\n",
      "Requirement already satisfied: pickleshare in c:\\users\\paulo\\anaconda3\\lib\\site-packages (from ipython<8.0,>=7.23.1->ipykernel->nbdev>=0.2.38->fastbook) (0.7.5)\n",
      "Requirement already satisfied: decorator in c:\\users\\paulo\\anaconda3\\lib\\site-packages (from ipython<8.0,>=7.23.1->ipykernel->nbdev>=0.2.38->fastbook) (5.1.1)\n",
      "Requirement already satisfied: backcall in c:\\users\\paulo\\anaconda3\\lib\\site-packages (from ipython<8.0,>=7.23.1->ipykernel->nbdev>=0.2.38->fastbook) (0.2.0)\n",
      "Requirement already satisfied: prompt-toolkit!=3.0.0,!=3.0.1,<3.1.0,>=2.0.0 in c:\\users\\paulo\\anaconda3\\lib\\site-packages (from ipython<8.0,>=7.23.1->ipykernel->nbdev>=0.2.38->fastbook) (3.0.20)\n",
      "Requirement already satisfied: parso<0.9.0,>=0.8.0 in c:\\users\\paulo\\anaconda3\\lib\\site-packages (from jedi>=0.16->ipython<8.0,>=7.23.1->ipykernel->nbdev>=0.2.38->fastbook) (0.8.3)\n",
      "Requirement already satisfied: wcwidth in c:\\users\\paulo\\anaconda3\\lib\\site-packages (from prompt-toolkit!=3.0.0,!=3.0.1,<3.1.0,>=2.0.0->ipython<8.0,>=7.23.1->ipykernel->nbdev>=0.2.38->fastbook) (0.2.5)\n",
      "Requirement already satisfied: jupyterlab-widgets>=1.0.0 in c:\\users\\paulo\\anaconda3\\lib\\site-packages (from ipywidgets->fastbook) (1.0.0)\n",
      "Requirement already satisfied: widgetsnbextension~=3.5.0 in c:\\users\\paulo\\anaconda3\\lib\\site-packages (from ipywidgets->fastbook) (3.5.1)\n",
      "Requirement already satisfied: notebook>=4.4.1 in c:\\users\\paulo\\anaconda3\\lib\\site-packages (from widgetsnbextension~=3.5.0->ipywidgets->fastbook) (6.4.6)\n",
      "Requirement already satisfied: terminado>=0.8.3 in c:\\users\\paulo\\anaconda3\\lib\\site-packages (from notebook>=4.4.1->widgetsnbextension~=3.5.0->ipywidgets->fastbook) (0.9.4)\n",
      "Requirement already satisfied: Send2Trash>=1.8.0 in c:\\users\\paulo\\anaconda3\\lib\\site-packages (from notebook>=4.4.1->widgetsnbextension~=3.5.0->ipywidgets->fastbook) (1.8.0)\n",
      "Requirement already satisfied: argon2-cffi in c:\\users\\paulo\\anaconda3\\lib\\site-packages (from notebook>=4.4.1->widgetsnbextension~=3.5.0->ipywidgets->fastbook) (20.1.0)\n",
      "Requirement already satisfied: prometheus-client in c:\\users\\paulo\\anaconda3\\lib\\site-packages (from notebook>=4.4.1->widgetsnbextension~=3.5.0->ipywidgets->fastbook) (0.12.0)\n",
      "Requirement already satisfied: nest-asyncio>=1.5 in c:\\users\\paulo\\anaconda3\\lib\\site-packages (from notebook>=4.4.1->widgetsnbextension~=3.5.0->ipywidgets->fastbook) (1.5.1)\n",
      "Requirement already satisfied: pywinpty>=0.5 in c:\\users\\paulo\\anaconda3\\lib\\site-packages (from terminado>=0.8.3->notebook>=4.4.1->widgetsnbextension~=3.5.0->ipywidgets->fastbook) (0.5.7)\n",
      "Requirement already satisfied: cffi>=1.0.0 in c:\\users\\paulo\\anaconda3\\lib\\site-packages (from argon2-cffi->notebook>=4.4.1->widgetsnbextension~=3.5.0->ipywidgets->fastbook) (1.15.0)\n",
      "Requirement already satisfied: pycparser in c:\\users\\paulo\\anaconda3\\lib\\site-packages (from cffi>=1.0.0->argon2-cffi->notebook>=4.4.1->widgetsnbextension~=3.5.0->ipywidgets->fastbook) (2.21)\n",
      "Requirement already satisfied: jupyter-console in c:\\users\\paulo\\anaconda3\\lib\\site-packages (from jupyter->nbdev>=0.2.38->fastbook) (6.4.0)\n",
      "Requirement already satisfied: qtconsole in c:\\users\\paulo\\anaconda3\\lib\\site-packages (from jupyter->nbdev>=0.2.38->fastbook) (5.2.2)\n",
      "Requirement already satisfied: fonttools>=4.22.0 in c:\\users\\paulo\\anaconda3\\lib\\site-packages (from matplotlib->fastai>=2.5->fastbook) (4.29.1)\n",
      "Requirement already satisfied: cycler>=0.10 in c:\\users\\paulo\\anaconda3\\lib\\site-packages (from matplotlib->fastai>=2.5->fastbook) (0.11.0)\n",
      "Requirement already satisfied: kiwisolver>=1.0.1 in c:\\users\\paulo\\anaconda3\\lib\\site-packages (from matplotlib->fastai>=2.5->fastbook) (1.3.2)\n",
      "Requirement already satisfied: pytz>=2020.1 in c:\\users\\paulo\\anaconda3\\lib\\site-packages (from pandas->fastbook) (2021.3)\n",
      "Requirement already satisfied: qtpy in c:\\users\\paulo\\anaconda3\\lib\\site-packages (from qtconsole->jupyter->nbdev>=0.2.38->fastbook) (1.11.2)\n",
      "Requirement already satisfied: joblib>=0.11 in c:\\users\\paulo\\anaconda3\\lib\\site-packages (from scikit-learn->fastai>=2.5->fastbook) (1.1.0)\n",
      "Requirement already satisfied: threadpoolctl>=2.0.0 in c:\\users\\paulo\\anaconda3\\lib\\site-packages (from scikit-learn->fastai>=2.5->fastbook) (3.1.0)\n"
     ]
    },
    {
     "name": "stderr",
     "output_type": "stream",
     "text": [
      "C:\\Users\\paulo\\anaconda3\\lib\\site-packages\\torchvision\\io\\image.py:11: UserWarning: Failed to load image Python extension: Could not find module 'C:\\Users\\paulo\\anaconda3\\Lib\\site-packages\\torchvision\\image.pyd' (or one of its dependencies). Try using the full path with constructor syntax.\n",
      "  warn(f\"Failed to load image Python extension: {e}\")\n",
      "C:\\Users\\paulo\\anaconda3\\lib\\site-packages\\fastbook\\__init__.py:19: UserWarning: Missing `graphviz` - please run `conda install fastbook`\n",
      "  except ModuleNotFoundError: warn(\"Missing `graphviz` - please run `conda install fastbook`\")\n"
     ]
    }
   ],
   "source": [
    "#hide\n",
    "#!pip install fastbook\n",
    "import fastbook\n",
    "fastbook.setup_book()"
   ]
  },
  {
   "cell_type": "code",
   "execution_count": 2,
   "metadata": {},
   "outputs": [],
   "source": [
    "#hide\n",
    "from fastbook import *\n",
    "from fastai.vision.widgets import *"
   ]
  },
  {
   "cell_type": "markdown",
   "metadata": {},
   "source": [
    "# Nosso primeiro classificador de Ursos (em breve serão os peixes) =)"
   ]
  },
  {
   "cell_type": "markdown",
   "metadata": {},
   "source": [
    "Nesse primeiro teste de Machine Learning, conseguimos realizar um classificador de ursos (pretos, marrons, polares e de pelúcia). Usando um modelo de Resnet18, nossa máquina de detecção funciona agora com quatro categorias de ursos. Em breve, nossos ursos serão a inspiração para realizar um outro desafio, a identificação dos melhores peixes da Região Norte (de acordo com gosto do Professor Clay =))."
   ]
  },
  {
   "cell_type": "markdown",
   "metadata": {},
   "source": [
    "# English"
   ]
  },
  {
   "cell_type": "markdown",
   "metadata": {},
   "source": [
    "In this first test of Machine Learning, we managed to perform a bear classifier (black, brown, polar and teddy). Using a model of Resnet18, our detection machine works only with four categories of bears. Soon, our bears will be the inspiration to carry out another challenge, the identification of the best fish in the North Region (according to Professor Clay's taste =))."
   ]
  },
  {
   "cell_type": "markdown",
   "metadata": {},
   "source": [
    "# Français"
   ]
  },
  {
   "cell_type": "markdown",
   "metadata": {},
   "source": [
    "Dans ce premier test de Machine Learning, nous avons réussi à effectuer un classificateur d'ours (noir, marron, polar et nounours). En utilisant un modèle de Resnet18, pour l'instant, notre machine de détection ne fonctionne qu'avec ces quattre catégories d'ours. Bientôt, nos ours seront l'inspiration pour relever un autre défi, l'identification des meilleurs poissons de la région Nord (selon le goût du professeur Clay =))."
   ]
  },
  {
   "cell_type": "code",
   "execution_count": 33,
   "metadata": {},
   "outputs": [
    {
     "data": {
      "application/vnd.jupyter.widget-view+json": {
       "model_id": "",
       "version_major": 2,
       "version_minor": 0
      },
      "text/plain": [
       "Label(value='Predição: polar; Probabilidade: 1.0000')"
      ]
     },
     "metadata": {},
     "output_type": "display_data"
    }
   ],
   "source": [
    "path = Path()\n",
    "learn_inf = load_learner(path/'psales0702.pkl')\n",
    "btn_upload = widgets.FileUpload()\n",
    "out_pl = widgets.Output()\n",
    "lbl_pred = widgets.Label()"
   ]
  },
  {
   "cell_type": "code",
   "execution_count": 35,
   "metadata": {},
   "outputs": [],
   "source": [
    "#def on_click_classify(change):\n",
    "def on_click(image):\n",
    "    img = PILImage.create(btn_upload.data[-1])\n",
    "    out_pl.clear_output()\n",
    "    with out_pl: display(img.to_thumb(128,128))\n",
    "    pred,pred_idx,probs = learn_inf.predict(img)\n",
    "    lbl_pred.value = f'Predição: {pred}; Probabilidade: {probs[pred_idx]:.04f}'\n",
    "\n",
    "#btn_run.on_click(on_click_classify)"
   ]
  },
  {
   "cell_type": "markdown",
   "metadata": {},
   "source": [
    "You can test the button now by pressing it, and you should see the image and predictions update automatically!\n",
    "\n",
    "We can now put them all in a vertical box (`VBox`) to complete our GUI:"
   ]
  },
  {
   "cell_type": "code",
   "execution_count": 36,
   "metadata": {},
   "outputs": [],
   "source": [
    "#hide\n",
    "#Putting back btn_upload to a widget for next cell\n",
    "#btn_upload = widgets.FileUpload()"
   ]
  },
  {
   "cell_type": "code",
   "execution_count": 37,
   "metadata": {
    "scrolled": true
   },
   "outputs": [
    {
     "data": {
      "application/vnd.jupyter.widget-view+json": {
       "model_id": "27dac62cea5c4d34ac49b2ad23649837",
       "version_major": 2,
       "version_minor": 0
      },
      "text/plain": [
       "VBox(children=(Label(value='Selecione seu urso!'), FileUpload(value={}, description='Upload'), Button(descript…"
      ]
     },
     "metadata": {},
     "output_type": "display_data"
    },
    {
     "data": {
      "text/html": [],
      "text/plain": [
       "<IPython.core.display.HTML object>"
      ]
     },
     "metadata": {},
     "output_type": "display_data"
    }
   ],
   "source": [
    "#hide_output\n",
    "VBox([widgets.Label('Selecione seu urso!'), \n",
    "      btn_upload, btn_run, out_pl, lbl_pred])"
   ]
  },
  {
   "cell_type": "code",
   "execution_count": null,
   "metadata": {},
   "outputs": [],
   "source": [
    "#hide\n",
    "# !pip install voila\n",
    "# !jupyter serverextension enable --sys-prefix voila "
   ]
  }
 ],
 "metadata": {
  "jupytext": {
   "split_at_heading": true
  },
  "kernelspec": {
   "display_name": "Python 3 (ipykernel)",
   "language": "python",
   "name": "python3"
  },
  "language_info": {
   "codemirror_mode": {
    "name": "ipython",
    "version": 3
   },
   "file_extension": ".py",
   "mimetype": "text/x-python",
   "name": "python",
   "nbconvert_exporter": "python",
   "pygments_lexer": "ipython3",
   "version": "3.8.12"
  }
 },
 "nbformat": 4,
 "nbformat_minor": 4
}
